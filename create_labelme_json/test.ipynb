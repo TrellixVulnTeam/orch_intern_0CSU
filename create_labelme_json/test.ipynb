{
 "cells": [
  {
   "cell_type": "code",
   "execution_count": 1,
   "source": [
    "# %matplotlib\r\n",
    "import cv2\r\n",
    "from PIL import Image\r\n",
    "import numpy as np\r\n",
    "import json\r\n",
    "import matplotlib.pyplot as plt\r\n",
    "import os\r\n",
    "import glob\r\n",
    "import tqdm\r\n",
    "IMAGE_PATH = \"Picture\"\r\n",
    "SEGPATH = \"Picture_segformer_1\""
   ],
   "outputs": [],
   "metadata": {}
  },
  {
   "cell_type": "code",
   "execution_count": 23,
   "source": [
    "test_filename = \"1625453344362.jpg\"\r\n",
    "test_img = cv2.imread(os.path.join(IMAGE_PATH, test_filename))\r\n",
    "test_seg = cv2.imread(os.path.join(SEGPATH, test_filename))\r\n",
    "# _, test_seg = cv2.threshold(test_seg,127,1,cv2.THRESH_BINARY)\r\n",
    "# test_seg = cv2.medianBlur(test_seg, 3)\r\n",
    "# test_seg = cv2.erode(test_seg, np.ones((15,15),np.uint8), iterations=9)\r\n",
    "# test_seg = cv2.dilate(test_seg, np.ones((15,15),np.uint8), iterations=9)\r\n",
    "edges = cv2.Canny(test_seg, 100, 200)\r\n",
    "points = np.nonzero(edges.transpose(1,0))\r\n",
    "print(test_seg.shape)\r\n",
    "plt.axis(\"off\")\r\n",
    "plt.imshow(edges)\r\n",
    "plt.show()\r\n",
    "# 想检测一下角点，但尝试失败\r\n",
    "# seg_gray = cv2.cvtColor(test_seg, cv2.COLOR_BGR2GRAY)\r\n",
    "# seg_gray = test_seg\r\n",
    "# seg_gray = np.float32(seg_gray)\r\n",
    "# dst = cv2.cornerHarris(seg_gray, 2, 3, 0.04)\r\n",
    "# dst = cv2.dilate(dst,None)\r\n",
    "# print(np.sum(dst>=0.01*dst.max()))\r\n",
    "# points = np.nonzero((dst>=0.01*dst.max()).transpose(1,0))\r\n"
   ],
   "outputs": [
    {
     "output_type": "stream",
     "name": "stdout",
     "text": [
      "(480, 640, 3)\n"
     ]
    }
   ],
   "metadata": {}
  },
  {
   "cell_type": "code",
   "execution_count": null,
   "source": [
    "from temp import removeDuplicateSimilar1, smooth\r\n",
    "def process_points(points, dist_similar=1):\r\n",
    "    ww, hh = points\r\n",
    "    print(ww[:5])\r\n",
    "    res = np.vstack((ww, hh)).transpose(1,0)\r\n",
    "    print(res.shape)\r\n",
    "    # res = smooth(res)\r\n",
    "    res = removeDuplicateSimilar1(res, dist_similar)\r\n",
    "    res = res.tolist()\r\n",
    "    # res = [[ww[k], hh[k]] for k in range(len(hh))]\r\n",
    "    # res.sort(key=lambda x: x[0])\r\n",
    "    res.append([639, 479])\r\n",
    "    res.append([0, 479])\r\n",
    "    return res\r\n",
    "temp = process_points(points, 20)\r\n",
    "print(len(temp))\r\n",
    "temp[0:3]\r\n",
    "# temp"
   ],
   "outputs": [],
   "metadata": {}
  },
  {
   "cell_type": "code",
   "execution_count": null,
   "source": [
    "json_label = {}\r\n",
    "json_label[\"version\"] = \"4.5.9\"\r\n",
    "json_label[\"flags\"] = {}\r\n",
    "points_list = process_points(points, 50)\r\n",
    "json_shape = {}\r\n",
    "json_shape[\"label\"] = \"lane\"\r\n",
    "json_shape[\"points\"] = points_list\r\n",
    "json_shape[\"group_id\"] = None\r\n",
    "json_shape[\"shape_type\"] = \"polygon\"\r\n",
    "json_shape[\"flags\"] = {}\r\n",
    "json_label[\"shapes\"] = [json_shape]\r\n",
    "json_label[\"imagePath\"] = \"test.jpg\"\r\n",
    "json_label[\"imageData\"] = None\r\n",
    "json_label[\"imageHeight\"] = test_seg.shape[0]\r\n",
    "json_label[\"imageWidth\"] = test_seg.shape[1]\r\n",
    "jsonData = json.dumps(json_label, indent=4)\r\n",
    "with open(\"test/test.json\", \"w\") as f:\r\n",
    "    f.write(jsonData)"
   ],
   "outputs": [],
   "metadata": {}
  },
  {
   "cell_type": "code",
   "execution_count": 11,
   "source": [
    "from temp import myUnique, removeDuplicateSimilar1\r\n",
    "test_filename_1 = \"1625453344362.jpg\"\r\n",
    "test_img_1 = cv2.imread(os.path.join(IMAGE_PATH, test_filename_1))\r\n",
    "test_seg_1 = cv2.imread(os.path.join(SEGPATH, test_filename_1))\r\n",
    "# _, test_seg = cv2.threshold(test_seg,127,1,cv2.THRESH_BINARY)\r\n",
    "# test_seg = cv2.medianBlur(test_seg, 3)\r\n",
    "# test_seg = cv2.erode(test_seg, np.ones((15,15),np.uint8), iterations=9)\r\n",
    "# test_seg = cv2.dilate(test_seg, np.ones((15,15),np.uint8), iterations=9)\r\n",
    "edges_1 = cv2.Canny(test_seg_1, 100, 200)\r\n",
    "points_1 = np.nonzero(edges_1.transpose(1,0))\r\n",
    "print(test_seg_1.shape)\r\n",
    "plt.axis(\"off\")\r\n",
    "plt.subplot(121)\r\n",
    "plt.imshow(edges_1)\r\n",
    "ww_1, hh_1 = points_1\r\n",
    "res_1 = np.vstack((ww_1, hh_1)).transpose(1,0)\r\n",
    "_, ic_1 = myUnique(res_1[:, 0], return_inverse=True, axis=0)\r\n",
    "del_flag_1 = np.append(np.array([1]), np.diff(ic_1))  # 不删除队列第一个元素\r\n",
    "del_index_1 = np.argwhere(del_flag_1 == 0)\r\n",
    "res_1 = np.delete(res_1, del_index_1, axis=0)\r\n",
    "res_1 = removeDuplicateSimilar1(res_1, 20)\r\n",
    "\r\n",
    "test_filename_2 = \"1625453450122.jpg\"\r\n",
    "test_img_2 = cv2.imread(os.path.join(IMAGE_PATH, test_filename_2))\r\n",
    "test_seg_2 = cv2.imread(os.path.join(SEGPATH, test_filename_2))\r\n",
    "edges_2 = cv2.Canny(test_seg_2, 100, 200)\r\n",
    "points_2 = np.nonzero(edges_2.transpose(1,0))\r\n",
    "print(test_seg_2.shape)\r\n",
    "plt.axis(\"off\")\r\n",
    "plt.subplot(122)\r\n",
    "plt.imshow(edges_2)\r\n",
    "ww_2, hh_2 = points_2\r\n",
    "res_2 = np.vstack((ww_2, hh_2)).transpose(1,0)\r\n",
    "_, ic_2 = myUnique(res_2[:, 0], return_inverse=True, axis=0)\r\n",
    "del_flag_2 = np.append(np.array([1]), np.diff(ic_2))  # 不删除队列第一个元素\r\n",
    "del_index_2 = np.argwhere(del_flag_2 == 0)\r\n",
    "res_2 = np.delete(res_2, del_index_2, axis=0)\r\n",
    "res_2 = removeDuplicateSimilar1(res_2, 20)"
   ],
   "outputs": [
    {
     "output_type": "stream",
     "name": "stdout",
     "text": [
      "(480, 640, 3)\n",
      "(480, 640, 3)\n"
     ]
    },
    {
     "output_type": "display_data",
     "data": {
      "text/plain": [
       "<Figure size 432x288 with 2 Axes>"
      ],
      "image/png": "[encoded data removed]"
     },
     "metadata": {
      "needs_background": "light"
     }
    }
   ],
   "metadata": {}
  },
  {
   "cell_type": "code",
   "execution_count": 13,
   "source": [
    "from temp import getYawAim, getCurve\r\n",
    "tangentAngle_1 = getYawAim(res_1)\r\n",
    "curveArr_1 = getCurve(res_1, tangentAngle_1)\r\n",
    "tangentAngle_2 = getYawAim(res_2)\r\n",
    "curveArr_2 = getCurve(res_2, tangentAngle_2)\r\n",
    "plt.plot(curveArr_1, \"r\")\r\n",
    "plt.plot(curveArr_2, \"g\")\r\n",
    "plt.show()\r\n",
    "print(curveArr_1.shape)"
   ],
   "outputs": [
    {
     "output_type": "display_data",
     "data": {
      "text/plain": [
       "<Figure size 432x288 with 1 Axes>"
      ],
      "image/png": "[encoded data removed]"
     },
     "metadata": {
      "needs_background": "light"
     }
    },
    {
     "output_type": "stream",
     "name": "stdout",
     "text": [
      "(26,)\n"
     ]
    }
   ],
   "metadata": {}
  },
  {
   "cell_type": "code",
   "execution_count": 26,
   "source": [
    "img = test_img.copy()\r\n",
    "pts = res.reshape((-1,1,2))\r\n",
    "img = cv2.polylines(img, [pts], False, (0,255,255), 5)\r\n",
    "plt.imshow(img)"
   ],
   "outputs": [
    {
     "output_type": "execute_result",
     "data": {
      "text/plain": [
       "<matplotlib.image.AxesImage at 0x247e9357f40>"
      ]
     },
     "metadata": {},
     "execution_count": 26
    }
   ],
   "metadata": {}
  },
  {
   "cell_type": "code",
   "execution_count": null,
   "source": [],
   "outputs": [],
   "metadata": {}
  }
 ],
 "metadata": {
  "orig_nbformat": 4,
  "language_info": {
   "name": "python",
   "version": "3.8.8",
   "mimetype": "text/x-python",
   "codemirror_mode": {
    "name": "ipython",
    "version": 3
   },
   "pygments_lexer": "ipython3",
   "nbconvert_exporter": "python",
   "file_extension": ".py"
  },
  "kernelspec": {
   "name": "python3",
   "display_name": "Python 3.8.8 64-bit ('base': conda)"
  },
  "interpreter": {
   "hash": "73e03da126b73bfff3642ec5261d56fa25c444ea595de51041687efaa60dda41"
  }
 },
 "nbformat": 4,
 "nbformat_minor": 2
}